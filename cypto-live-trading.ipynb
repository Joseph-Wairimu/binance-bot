{
 "cells": [
  {
   "cell_type": "code",
   "execution_count": 11,
   "metadata": {},
   "outputs": [],
   "source": [
    "import secret \n",
    "import sqlalchemy\n",
    "import pandas as pd\n",
    "from binance.client import Client\n"
   ]
  },
  {
   "cell_type": "code",
   "execution_count": 19,
   "metadata": {},
   "outputs": [],
   "source": [
    "client= Client(api_key=secret.api_key, api_secret=secret.api_secret)\n",
    "\n"
   ]
  },
  {
   "cell_type": "code",
   "execution_count": 45,
   "metadata": {},
   "outputs": [],
   "source": [
    "symbol = 'BTCUSDT'"
   ]
  },
  {
   "cell_type": "code",
   "execution_count": 46,
   "metadata": {},
   "outputs": [],
   "source": [
    "engine = sqlalchemy.create_engine('sqlite:///'+symbol+'stream.db')"
   ]
  },
  {
   "cell_type": "code",
   "execution_count": 47,
   "metadata": {},
   "outputs": [],
   "source": [
    "df = pd.read_sql(symbol, engine)"
   ]
  },
  {
   "cell_type": "code",
   "execution_count": 53,
   "metadata": {},
   "outputs": [
    {
     "data": {
      "text/plain": [
       "<AxesSubplot:>"
      ]
     },
     "execution_count": 53,
     "metadata": {},
     "output_type": "execute_result"
    },
    {
     "data": {
      "image/png": "[encoded data removed]",
      "text/plain": [
       "<Figure size 432x288 with 1 Axes>"
      ]
     },
     "metadata": {
      "needs_background": "light"
     },
     "output_type": "display_data"
    }
   ],
   "source": [
    "df.Price.plot()\n",
    "\n",
    "# .Price.plot()"
   ]
  },
  {
   "cell_type": "code",
   "execution_count": 51,
   "metadata": {},
   "outputs": [],
   "source": [
    "#Trend following\n",
    "#If the crypto is rising by x% --> buy\n",
    "# Exit when profit is either above x% or below x%\n",
    "\n"
   ]
  },
  {
   "cell_type": "code",
   "execution_count": 54,
   "metadata": {},
   "outputs": [],
   "source": [
    "def strategy(entry,lookback,qty,symbol,thresh,open_position=False):\n",
    "    while True:\n",
    "        df = pd.read_sql(symbol, engine)\n",
    "        lookbackperiod = df.iloc[-lookback:]\n",
    "        cumret=(lookbackperiod.Price.pct_change()+1).cumprod()-1\n",
    "\n",
    "        if not open_position:\n",
    "            if cumret[cumret.last_valid_index()]>entry:\n",
    "                order = client.create_order(symbol=symbol,side='BUY',type='MARKET',quantity=qty)\n",
    "                print(order)\n",
    "                open_position=True\n",
    "                break\n",
    "    if open_position:\n",
    "        while True:\n",
    "            df = pd.read_sql(symbol, engine)\n",
    "            sincebuy = df.loc[df.Time > pd.to_datetime(order['transactTime'],units='ms')]\n",
    "\n",
    "            if len(sincebuy)>1:\n",
    "                sincebuyret=(sincebuy.Price.pct_change()+1).cumprod()-1\n",
    "                last_entry=sincebuyret[sincebuyret.last_valid_index()]\n",
    "\n",
    "                if last_entry > thresh or last_entry < (-1 * thresh):\n",
    "                    order = client.create_order(symbol=symbol,side='SELL',type='MARKET',quantity=qty)\n",
    "                    print(order)\n",
    "                    break\n"
   ]
  },
  {
   "cell_type": "code",
   "execution_count": 57,
   "metadata": {},
   "outputs": [],
   "source": [
    "strategy(0.0005,600,0.0001,symbol=symbol,thresh=0.0005)"
   ]
  }
 ],
 "metadata": {
  "interpreter": {
   "hash": "916dbcbb3f70747c44a77c7bcd40155683ae19c65e1c03b4aa3499c5328201f1"
  },
  "kernelspec": {
   "display_name": "Python 3.8.10 64-bit",
   "language": "python",
   "name": "python3"
  },
  "language_info": {
   "codemirror_mode": {
    "name": "ipython",
    "version": 3
   },
   "file_extension": ".py",
   "mimetype": "text/x-python",
   "name": "python",
   "nbconvert_exporter": "python",
   "pygments_lexer": "ipython3",
   "version": "3.8.10"
  },
  "orig_nbformat": 4
 },
 "nbformat": 4,
 "nbformat_minor": 2
}
